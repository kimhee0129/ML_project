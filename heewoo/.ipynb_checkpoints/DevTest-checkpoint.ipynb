{
 "cells": [
  {
   "cell_type": "code",
   "execution_count": null,
   "id": "ad57795d-883f-4032-92dd-c0083f717fca",
   "metadata": {},
   "outputs": [],
   "source": [
    "model_path = \"v1.pt\""
   ]
  },
  {
   "cell_type": "code",
   "execution_count": null,
   "id": "641005e5-4e00-43e7-bdc1-797b91fa1105",
   "metadata": {},
   "outputs": [],
   "source": [
    "import torch\n",
    "import numpy as np\n",
    "\n",
    "device = \"cuda\" if torch.cuda.is_available() else \"cpu\"\n",
    "model = torch.load(\"model.pt\", map_location=device)"
   ]
  },
  {
   "cell_type": "code",
   "execution_count": null,
   "id": "34bc78ec-6528-4900-bb68-0aa47e6a5d01",
   "metadata": {},
   "outputs": [],
   "source": [
    "# 데이터셋 처리 함수 정의\n",
    "def path2tensor(path, label):\n",
    "    data_x = []\n",
    "    data_y = []\n",
    "    \n",
    "    files = os.listdir(path)\n",
    "    for f in files:\n",
    "        f = os.path.join(path, f)\n",
    "        img = cv2.imread(f).astype(np.float32) / 255\n",
    "        img = np.transpose(img, (2, 0, 1))\n",
    "        data_x.append(img)\n",
    "\n",
    "        y = [0 for i in range(5)]\n",
    "        y[label] = 1\n",
    "        data_y.append(y)\n",
    "\n",
    "    return (data_x, data_y)"
   ]
  },
  {
   "cell_type": "code",
   "execution_count": null,
   "id": "54724b4e-c2d0-4dac-a190-8c47d867f7bf",
   "metadata": {},
   "outputs": [],
   "source": [
    "img_path = \"E:\\AI_data\\test_set\"\n",
    "\n",
    "str2label = { \"bird\" : 0,\n",
    "              \"car\" : 1,\n",
    "              \"cat\" : 2,\n",
    "              \"dog\" : 3,\n",
    "              \"fish\" : 4 }\n",
    "\n",
    "test_x = []\n",
    "test_y = []\n",
    "\n",
    "for c in [\"bird\", \"car\", \"cat\", \"dog\", \"fish\"]:\n",
    "    result = path2tensor(os.path.join(dataset_path, c), str2label[c])\n",
    "    test_x += result[0]\n",
    "    test_y += result[1]\n",
    "\n",
    "test_x = np.array(test_x)\n",
    "test_y = np.array(test_y)"
   ]
  },
  {
   "cell_type": "code",
   "execution_count": null,
   "id": "625be23e-b508-4e15-92ee-243c9e189700",
   "metadata": {},
   "outputs": [],
   "source": [
    "# 모델 평가하기\n",
    "target_data = []\n",
    "pred_data = []\n",
    "\n",
    "with torch.no_grad():\n",
    "    for i in range(len(test_x)):\n",
    "        model.eval()\n",
    "        \n",
    "        inputs = test_x[i].to(device)\n",
    "        outputs = model(inputs)\n",
    "        sig = torch.sigmoid(outputs)\n",
    "\n",
    "        pred_data.append(sig.cpu().numpy())\n",
    "        target_data.append(test_y[i])"
   ]
  },
  {
   "cell_type": "code",
   "execution_count": null,
   "id": "35d25fb5-8b3b-46b0-8f02-d91b83309b49",
   "metadata": {},
   "outputs": [],
   "source": [
    "from sklearn.metrics import f1_score\n",
    "\n",
    "# pred와 target을 합친 후 텐서로 변환\n",
    "pred = np.concatenate(pred_data)\n",
    "target = np.concatenate(target_data)\n",
    "\n",
    "# 정확도 계산\n",
    "accuracy = (pred == target).mean()\n",
    "\n",
    "# 정밀도 계산\n",
    "true_positive = ((pred == 1) & (target == 1)).sum()\n",
    "false_positive = ((pred == 1) & (target == 0)).sum()\n",
    "precision = true_positive / (true_positive + false_positive) if (true_positive + false_positive) > 0 else 0\n",
    "\n",
    "# 재현율 계산\n",
    "false_negative = ((pred == 0) & (target == 1)).sum()\n",
    "recall = true_positive / (true_positive + false_negative) if (true_positive + false_negative) > 0 else 0\n",
    "\n",
    "# F1 점수 계산\n",
    "f1_score = f1_score(target, pred, average=)"
   ]
  },
  {
   "cell_type": "code",
   "execution_count": null,
   "id": "b984ba7d-6e3e-4174-b5bd-2e60499f0be3",
   "metadata": {},
   "outputs": [],
   "source": [
    "print(f'정확도: {accuracy:.4f}')\n",
    "print(f'정밀도: {precision:.4f}')\n",
    "print(f'재현율: {recall:.4f}')\n",
    "print(f'F1 점수: {f1_score:.4f}')"
   ]
  },
  {
   "cell_type": "code",
   "execution_count": null,
   "id": "4281f604-7ee4-4473-ad57-8d5c52d9d7a0",
   "metadata": {},
   "outputs": [],
   "source": [
    "diff_index = []\n",
    "for i in range(len(target_data)):\n",
    "    if not np.array_equal(target_data[i], pred_data[i]):\n",
    "        diff_index.append(i)\n",
    "\n",
    "print(f\"{len(diff_index)}개의 데이터 예측에 실패했습니다.\")\n",
    "print()\n",
    "print(\"예측 실패 : \", diff_index)"
   ]
  },
  {
   "cell_type": "code",
   "execution_count": null,
   "id": "9bc17b50-e859-400d-bcc9-47b9f813aac7",
   "metadata": {},
   "outputs": [],
   "source": [
    "import matplotlib.pyplot as plt\n",
    "def display_img(img_tensor):\n",
    "    img = np.squeeze(img_tensor)  # 배치 차원 제거\n",
    "    plt.imshow(np.transpose(img, (1, 2, 0)))  # CHW -> HWC로 변환하여 표시"
   ]
  },
  {
   "cell_type": "code",
   "execution_count": null,
   "id": "91e28a73-285e-4a53-8599-0046a79b5c23",
   "metadata": {},
   "outputs": [],
   "source": [
    "import copy\n",
    "\n",
    "answer = 234\n",
    "while answer:\n",
    "    answer = int(input(\"몇 번째 데이터를 확인하시겠습니까?\"))\n",
    "\n",
    "    if not answer in diff_index:\n",
    "        print(\"유효하지 않은 인덱스입니다.\")\n",
    "        continue\n",
    "    \n",
    "    display_img(test_x[answer])\n",
    "\n",
    "    pred_perc = copy.deepcopy(pred[answer])\n",
    "    target_perc = copy.deepcopy(target[answer])\n",
    "\n",
    "    for i in range(5):\n",
    "        pred_perc[i] = f\"{pred_perc[i]*100}%\"\n",
    "        target_perc[i] = f\"{target_perc[i]*100}%\"\n",
    "        \n",
    "    print(\"예측 확률 :\", pred[answer])\n",
    "    print(\"실제 확률 :\", target[answer])"
   ]
  }
 ],
 "metadata": {
  "kernelspec": {
   "display_name": "Python 3 (ipykernel)",
   "language": "python",
   "name": "python3"
  },
  "language_info": {
   "codemirror_mode": {
    "name": "ipython",
    "version": 3
   },
   "file_extension": ".py",
   "mimetype": "text/x-python",
   "name": "python",
   "nbconvert_exporter": "python",
   "pygments_lexer": "ipython3",
   "version": "3.10.13"
  }
 },
 "nbformat": 4,
 "nbformat_minor": 5
}
