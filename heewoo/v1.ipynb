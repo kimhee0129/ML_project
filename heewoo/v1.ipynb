{
 "cells": [
  {
   "cell_type": "code",
   "execution_count": 1,
   "id": "729acb7e-4d57-4358-b8bf-1cfb5c7eba24",
   "metadata": {},
   "outputs": [],
   "source": [
    "# 모듈 임포트\n",
    "import torch\n",
    "from torch.utils.data import Dataset, DataLoader\n",
    "from torchvision import transforms\n",
    "from PIL import Image"
   ]
  },
  {
   "cell_type": "code",
   "execution_count": null,
   "id": "5a3011bf-4cb2-47f2-91d7-0aa83536a2b7",
   "metadata": {},
   "outputs": [],
   "source": [
    "# 상수 정의\n"
   ]
  },
  {
   "cell_type": "code",
   "execution_count": null,
   "id": "1cde1ad8-8123-4edc-bb78-8f73c16c152b",
   "metadata": {},
   "outputs": [],
   "source": [
    "# 데이터셋 정의\n",
    "class fiveDataset(Dataset):\n",
    "    def __init__(self, ):\n",
    "        self.data = data\n",
    "        self.labels = labels\n",
    "\n",
    "    def __len__(self):\n",
    "        return len(self.data)\n",
    "\n",
    "    def __getitem__(self, idx):\n",
    "        x = self.data[idx]\n",
    "        y = self.labels[idx]\n",
    "        return x, y"
   ]
  },
  {
   "cell_type": "code",
   "execution_count": null,
   "id": "9264f059-555c-4aa9-9abd-8159a74253e2",
   "metadata": {},
   "outputs": [],
   "source": [
    "# 신경망 정의\n",
    "class fiveClassifier(nn.Module):\n",
    "    def __init__(self):\n",
    "        super(fiveClassifier, self).__init__()\n",
    "        self.fc1 = nn.Linear(3, 5)  # 입력: 3차원, 출력: 5차원\n",
    "        self.fc2 = nn.Linear(5, 2)   # 입력: 5차원, 출력: 2차원 (이진 분류)\n",
    "\n",
    "    def forward(self, x):\n",
    "        x = torch.relu(self.fc1(x))\n",
    "        x = self.fc2(x)\n",
    "        return x"
   ]
  },
  {
   "cell_type": "code",
   "execution_count": null,
   "id": "60a2ba2b-e596-4a33-a84a-b541afc041a1",
   "metadata": {},
   "outputs": [],
   "source": [
    "dataset = fiveDataset([1, 2, 3, 4, 5], [0, 0, 1, 1, 0])\n",
    "dataloader = DataLoader(dataset, batch_size=10, shuffle=True)"
   ]
  }
 ],
 "metadata": {
  "kernelspec": {
   "display_name": "Python 3 (ipykernel)",
   "language": "python",
   "name": "python3"
  },
  "language_info": {
   "codemirror_mode": {
    "name": "ipython",
    "version": 3
   },
   "file_extension": ".py",
   "mimetype": "text/x-python",
   "name": "python",
   "nbconvert_exporter": "python",
   "pygments_lexer": "ipython3",
   "version": "3.10.13"
  }
 },
 "nbformat": 4,
 "nbformat_minor": 5
}
