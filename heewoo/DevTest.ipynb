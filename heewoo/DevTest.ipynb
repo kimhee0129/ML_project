{
 "cells": [
  {
   "cell_type": "code",
   "execution_count": 1,
   "id": "ad57795d-883f-4032-92dd-c0083f717fca",
   "metadata": {},
   "outputs": [],
   "source": [
    "model_path = \"v1.pt\""
   ]
  },
  {
   "cell_type": "code",
   "execution_count": 2,
   "id": "8e0cec18-956a-4815-abfd-2713172f78d4",
   "metadata": {},
   "outputs": [],
   "source": [
    "import torch\n",
    "from torch import nn\n",
    "# 신경망 정의\n",
    "class Res18Net(nn.Module):\n",
    "    def __init__(self):\n",
    "        super(Res18Net, self).__init__()\n",
    "        self.model = resnet18(weights=ResNet18_Weights.DEFAULT)\n",
    "        self.model.conv1 = nn.Conv2d(3, 64, kernel_size=(7, 7), stride=(2, 2), padding=(3, 3), bias=False)\n",
    "        num_ftrs = self.model.fc.in_features\n",
    "        self.model.fc = nn.Linear(num_ftrs, 5)\n",
    "\n",
    "    def forward(self, x):\n",
    "        x = self.model(x)\n",
    "        return x"
   ]
  },
  {
   "cell_type": "code",
   "execution_count": 3,
   "id": "641005e5-4e00-43e7-bdc1-797b91fa1105",
   "metadata": {},
   "outputs": [],
   "source": [
    "import torch\n",
    "import numpy as np\n",
    "\n",
    "device = \"cuda\" if torch.cuda.is_available() else \"cpu\"\n",
    "model = torch.load(model_path, map_location=device)"
   ]
  },
  {
   "cell_type": "code",
   "execution_count": 4,
   "id": "34bc78ec-6528-4900-bb68-0aa47e6a5d01",
   "metadata": {},
   "outputs": [],
   "source": [
    "# 데이터셋 처리 함수 정의\n",
    "def path2tensor(path, label):\n",
    "    data_x = []\n",
    "    data_y = []\n",
    "    \n",
    "    files = os.listdir(path)\n",
    "    for f in files:\n",
    "        f = os.path.join(path, f)\n",
    "        img = cv2.imread(f).astype(np.float32) / 255\n",
    "        img = np.transpose(img, (2, 0, 1))\n",
    "        data_x.append(img)\n",
    "\n",
    "        y = [0 for i in range(5)]\n",
    "        y[label] = 1\n",
    "        data_y.append(y)\n",
    "\n",
    "    return (data_x, data_y)"
   ]
  },
  {
   "cell_type": "code",
   "execution_count": 5,
   "id": "54724b4e-c2d0-4dac-a190-8c47d867f7bf",
   "metadata": {},
   "outputs": [],
   "source": [
    "import os, cv2\n",
    "\n",
    "img_path = \"E:\\\\AI_data\\\\test_set\"\n",
    "\n",
    "str2label = { \"bird\" : 0,\n",
    "              \"car\" : 1,\n",
    "              \"cat\" : 2,\n",
    "              \"dog\" : 3,\n",
    "              \"fish\" : 4 }\n",
    "\n",
    "test_x = []\n",
    "test_y = []\n",
    "\n",
    "for c in [\"cat\", \"fish\"]:\n",
    "    result = path2tensor(os.path.join(img_path, c), str2label[c])\n",
    "    test_x += result[0]\n",
    "    test_y += result[1]\n",
    "\n",
    "test_x = np.array(test_x)\n",
    "test_y = np.array(test_y)\n",
    "\n",
    "test_x = torch.tensor(test_x, dtype=torch.float32)\n",
    "test_y = torch.tensor(test_y, dtype=torch.float32)"
   ]
  },
  {
   "cell_type": "code",
   "execution_count": 17,
   "id": "625be23e-b508-4e15-92ee-243c9e189700",
   "metadata": {},
   "outputs": [],
   "source": [
    "# 모델 평가하기\n",
    "target_data = []\n",
    "sig_data = []\n",
    "pred_data = []\n",
    "target_n = []\n",
    "\n",
    "model.eval()\n",
    "\n",
    "with torch.no_grad():\n",
    "    inputs = test_x.to(device)\n",
    "    outputs = model(inputs)\n",
    "    sig = torch.sigmoid(outputs)\n",
    "    \n",
    "    sig_data.extend(sig.cpu().numpy())\n",
    "    target_data.extend(test_y.cpu().numpy())\n",
    "\n",
    "    target_n.extend(torch.argmax(test_y, dim=1).cpu().numpy())\n",
    "    _, predicted = torch.max(outputs, 1)\n",
    "    pred_data.extend(predicted.cpu().numpy())"
   ]
  },
  {
   "cell_type": "code",
   "execution_count": 18,
   "id": "35d25fb5-8b3b-46b0-8f02-d91b83309b49",
   "metadata": {},
   "outputs": [],
   "source": [
    "from sklearn.metrics import accuracy_score, precision_score, recall_score, f1_score\n",
    "# 예측값과 실제값을 NumPy 배열로 변환\n",
    "pred = np.array(pred_data)\n",
    "target = np.array(target_n)\n",
    "\n",
    "# 정확도 계산\n",
    "accuracy = accuracy_score(target, pred)\n",
    "\n",
    "# 정밀도 계산\n",
    "precision = precision_score(target, pred, average='weighted')\n",
    "\n",
    "# 재현율 계산\n",
    "recall = recall_score(target, pred, average='weighted', zero_division=1)\n",
    "\n",
    "# F1 점수 계산\n",
    "f1Score = f1_score(target, pred, average='weighted')"
   ]
  },
  {
   "cell_type": "code",
   "execution_count": 19,
   "id": "b984ba7d-6e3e-4174-b5bd-2e60499f0be3",
   "metadata": {},
   "outputs": [
    {
     "name": "stdout",
     "output_type": "stream",
     "text": [
      "정확도: 0.575\n",
      "정밀도: 1.0\n",
      "재현율: 0.575\n",
      "F1 점수: 0.7272727272727273\n"
     ]
    }
   ],
   "source": [
    "print(f'정확도: {accuracy}')\n",
    "print(f'정밀도: {precision}')\n",
    "print(f'재현율: {recall}')\n",
    "print(f'F1 점수: {f1Score}')"
   ]
  },
  {
   "cell_type": "code",
   "execution_count": 20,
   "id": "4281f604-7ee4-4473-ad57-8d5c52d9d7a0",
   "metadata": {},
   "outputs": [
    {
     "name": "stdout",
     "output_type": "stream",
     "text": [
      "17개의 데이터 예측에 실패했습니다.\n",
      "\n",
      "예측 실패 :  [0, 2, 3, 8, 11, 14, 15, 16, 17, 18, 25, 26, 27, 33, 36, 37, 38]\n"
     ]
    }
   ],
   "source": [
    "diff_index = []\n",
    "for i in range(len(target_data)):\n",
    "    if not np.array_equal(target_n[i], pred_data[i]):\n",
    "        diff_index.append(i)\n",
    "\n",
    "print(f\"{len(diff_index)}개의 데이터 예측에 실패했습니다.\")\n",
    "print()\n",
    "print(\"예측 실패 : \", diff_index)"
   ]
  },
  {
   "cell_type": "code",
   "execution_count": 68,
   "id": "9bc17b50-e859-400d-bcc9-47b9f813aac7",
   "metadata": {},
   "outputs": [
    {
     "data": {
      "application/vnd.jupyter.widget-view+json": {
       "model_id": "bc513ae8c4684ec181fef6cbeac135ca",
       "version_major": 2,
       "version_minor": 0
      },
      "text/plain": [
       "Output()"
      ]
     },
     "metadata": {},
     "output_type": "display_data"
    }
   ],
   "source": [
    "import matplotlib.pyplot as plt\n",
    "import numpy as np\n",
    "import copy\n",
    "from IPython.display import display\n",
    "import ipywidgets as widgets\n",
    "\n",
    "def display_images_with_probs(images, pred_percs, target_percs):\n",
    "    \n",
    "    # 이미지와 확률을 나란히 표시할 위젯 생성\n",
    "    output = widgets.Output()\n",
    "    with output:\n",
    "        for img, pred_perc, target_perc in zip(images, pred_percs, target_percs):\n",
    "            plt.figure(figsize=(5, 5))\n",
    "            img = np.transpose(np.squeeze(img), (1, 2, 0))  # CHW -> HWC 변환\n",
    "            img = cv2.cvtColor(img.numpy(), cv2.COLOR_BGR2RGB)\n",
    "            plt.imshow(img)\n",
    "            plt.axis('off')  # 축 제거\n",
    "            plt.title(f\"pred: {pred_perc}\\ntarget: {target_perc}\")\n",
    "            plt.show()\n",
    "    \n",
    "    display(output)\n",
    "\n",
    "images = [test_x[answer] for answer in diff_index]\n",
    "pred_percs = [list(copy.deepcopy(sig_data[answer])) for answer in diff_index]\n",
    "target_percs = [copy.deepcopy(target_data[answer]) for answer in diff_index]\n",
    "\n",
    "for i, d in enumerate(pred_percs):\n",
    "    for ii, p in enumerate(d):\n",
    "        pred_percs[i][ii] = round(p, 3)\n",
    "\n",
    "display_images_with_probs(images, pred_percs, target_percs)"
   ]
  }
 ],
 "metadata": {
  "kernelspec": {
   "display_name": "Python 3 (ipykernel)",
   "language": "python",
   "name": "python3"
  },
  "language_info": {
   "codemirror_mode": {
    "name": "ipython",
    "version": 3
   },
   "file_extension": ".py",
   "mimetype": "text/x-python",
   "name": "python",
   "nbconvert_exporter": "python",
   "pygments_lexer": "ipython3",
   "version": "3.10.13"
  }
 },
 "nbformat": 4,
 "nbformat_minor": 5
}
